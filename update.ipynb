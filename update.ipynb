{
 "cells": [
  {
   "cell_type": "code",
   "execution_count": 1,
   "id": "5aa9f986-6769-486c-bb67-efcbd104d329",
   "metadata": {},
   "outputs": [],
   "source": [
    "def update_files():\n",
    "    ! cd E:\\ECO723\n",
    "    !git add .\n",
    "    ! git commit -m \"Added new files and updates\"\n",
    "    !git push origin main"
   ]
  },
  {
   "cell_type": "code",
   "execution_count": 2,
   "id": "9235bb44-5b9f-451e-a901-9949388da8d9",
   "metadata": {},
   "outputs": [
    {
     "name": "stderr",
     "output_type": "stream",
     "text": [
      "warning: in the working copy of '.ipynb_checkpoints/Analysis_11-checkpoint.ipynb', LF will be replaced by CRLF the next time Git touches it\n",
      "warning: in the working copy of '.ipynb_checkpoints/Untitled1-checkpoint.ipynb', LF will be replaced by CRLF the next time Git touches it\n",
      "warning: in the working copy of '.ipynb_checkpoints/update-checkpoint.ipynb', LF will be replaced by CRLF the next time Git touches it\n",
      "warning: in the working copy of 'Analysis_11.ipynb', LF will be replaced by CRLF the next time Git touches it\n",
      "warning: in the working copy of 'Untitled1.ipynb', LF will be replaced by CRLF the next time Git touches it\n",
      "warning: in the working copy of 'update.ipynb', LF will be replaced by CRLF the next time Git touches it\n"
     ]
    },
    {
     "name": "stdout",
     "output_type": "stream",
     "text": [
      "[master (root-commit) c08153e] Added new files and updates\n",
      " 18 files changed, 5976 insertions(+)\n",
      " create mode 100644 .ipynb_checkpoints/1. (Soumic Ray 2023) An ARIMA LSTM model for predicting volatile agricultural price series with ra-checkpoint.pdf\n",
      " create mode 100644 .ipynb_checkpoints/Analysis_11-checkpoint.ipynb\n",
      " create mode 100644 .ipynb_checkpoints/Untitled1-checkpoint.ipynb\n",
      " create mode 100644 .ipynb_checkpoints/data_1-checkpoint.csv\n",
      " create mode 100644 .ipynb_checkpoints/data_2-checkpoint.csv\n",
      " create mode 100644 .ipynb_checkpoints/data_3-checkpoint.csv\n",
      " create mode 100644 .ipynb_checkpoints/plot_1-checkpoint.png\n",
      " create mode 100644 .ipynb_checkpoints/update-checkpoint.ipynb\n",
      " create mode 100644 1. (Soumic Ray 2023) An ARIMA LSTM model for predicting volatile agricultural price series with ra.pdf\n",
      " create mode 100644 Analysis_11.ipynb\n",
      " create mode 100644 Untitled1.ipynb\n",
      " create mode 100644 data_1.csv\n",
      " create mode 100644 data_2.csv\n",
      " create mode 100644 data_3.csv\n",
      " create mode 100644 plot_1.png\n",
      " create mode 100644 plot_2.png\n",
      " create mode 100644 update.ipynb\n",
      " create mode 100644 {1C470342-2C79-4520-8B0D-0D06D4C514DE}.png\n"
     ]
    },
    {
     "name": "stderr",
     "output_type": "stream",
     "text": [
      "error: src refspec main does not match any\n",
      "error: failed to push some refs to 'https://github.com/035skt/ECO723.git'\n"
     ]
    }
   ],
   "source": [
    "update_files()"
   ]
  },
  {
   "cell_type": "code",
   "execution_count": null,
   "id": "c59acf17-2922-4d6b-ba03-70720be8a09d",
   "metadata": {},
   "outputs": [],
   "source": []
  }
 ],
 "metadata": {
  "kernelspec": {
   "display_name": "Python 3 (ipykernel)",
   "language": "python",
   "name": "python3"
  },
  "language_info": {
   "codemirror_mode": {
    "name": "ipython",
    "version": 3
   },
   "file_extension": ".py",
   "mimetype": "text/x-python",
   "name": "python",
   "nbconvert_exporter": "python",
   "pygments_lexer": "ipython3",
   "version": "3.9.13"
  }
 },
 "nbformat": 4,
 "nbformat_minor": 5
}
