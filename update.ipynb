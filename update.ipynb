{
 "cells": [
  {
   "cell_type": "code",
   "execution_count": 6,
   "id": "5aa9f986-6769-486c-bb67-efcbd104d329",
   "metadata": {},
   "outputs": [],
   "source": [
    "def update_files():\n",
    "    ! cd E:\\ECO723\n",
    "    !git add .\n",
    "    ! git commit -m \"Added new files and updates\"\n",
    "    !git push origin main"
   ]
  },
  {
   "cell_type": "code",
   "execution_count": 8,
   "id": "9235bb44-5b9f-451e-a901-9949388da8d9",
   "metadata": {},
   "outputs": [
    {
     "name": "stderr",
     "output_type": "stream",
     "text": [
      "warning: in the working copy of 'Analysis_11.ipynb', LF will be replaced by CRLF the next time Git touches it\n"
     ]
    },
    {
     "name": "stdout",
     "output_type": "stream",
     "text": [
      "[main e94c5a0] Added new files and updates\n",
      " 6 files changed, 2552 insertions(+), 126 deletions(-)\n",
      " create mode 100644 data_1.csv\n",
      " create mode 100644 data_2.csv\n",
      " create mode 100644 data_3.csv\n",
      " create mode 100644 plot_1.png\n",
      " create mode 100644 plot_2.png\n"
     ]
    },
    {
     "name": "stderr",
     "output_type": "stream",
     "text": [
      "To https://github.com/035skt/ECO723.git\n",
      "   b178b8e..e94c5a0  main -> main\n"
     ]
    }
   ],
   "source": [
    "update_files()"
   ]
  },
  {
   "cell_type": "code",
   "execution_count": null,
   "id": "c59acf17-2922-4d6b-ba03-70720be8a09d",
   "metadata": {},
   "outputs": [],
   "source": []
  }
 ],
 "metadata": {
  "kernelspec": {
   "display_name": "Python 3 (ipykernel)",
   "language": "python",
   "name": "python3"
  },
  "language_info": {
   "codemirror_mode": {
    "name": "ipython",
    "version": 3
   },
   "file_extension": ".py",
   "mimetype": "text/x-python",
   "name": "python",
   "nbconvert_exporter": "python",
   "pygments_lexer": "ipython3",
   "version": "3.9.13"
  }
 },
 "nbformat": 4,
 "nbformat_minor": 5
}
